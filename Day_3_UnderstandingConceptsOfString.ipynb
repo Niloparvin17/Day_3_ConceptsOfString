{
 "cells": [
  {
   "cell_type": "code",
   "execution_count": null,
   "id": "414acffc",
   "metadata": {},
   "outputs": [],
   "source": [
    "# Understanding concept of String"
   ]
  },
  {
   "cell_type": "code",
   "execution_count": 3,
   "id": "7f1e71b2",
   "metadata": {},
   "outputs": [],
   "source": [
    "fn='nilofar'\n",
    "ln='hundekari'"
   ]
  },
  {
   "cell_type": "code",
   "execution_count": 8,
   "id": "91cc547c",
   "metadata": {},
   "outputs": [
    {
     "name": "stdout",
     "output_type": "stream",
     "text": [
      "nilofar hundekari\n"
     ]
    }
   ],
   "source": [
    "# display the fullname\n",
    "\n",
    "fullnm=f\"{fn} {ln}\"\n",
    "print(fullnm)"
   ]
  },
  {
   "cell_type": "code",
   "execution_count": 10,
   "id": "514e867a",
   "metadata": {},
   "outputs": [
    {
     "name": "stdout",
     "output_type": "stream",
     "text": [
      "Keep up the Good work , nilofar\n"
     ]
    }
   ],
   "source": [
    "msg= f\"Keep up the Good work , {fn}\"\n",
    "print(msg)"
   ]
  },
  {
   "cell_type": "code",
   "execution_count": null,
   "id": "ce3b19a1",
   "metadata": {},
   "outputs": [],
   "source": [
    "#Adding white space to string"
   ]
  },
  {
   "cell_type": "code",
   "execution_count": 11,
   "id": "c86a27e2",
   "metadata": {},
   "outputs": [
    {
     "name": "stdout",
     "output_type": "stream",
     "text": [
      "Fav-Lang:\n",
      "Python\n",
      "Java\n",
      "C#\n",
      "C++\n",
      "\n"
     ]
    }
   ],
   "source": [
    "print(\"Fav-Lang:\\nPython\\nJava\\nC#\\nC++\\n\")"
   ]
  },
  {
   "cell_type": "code",
   "execution_count": 12,
   "id": "86fedc84",
   "metadata": {},
   "outputs": [
    {
     "name": "stdout",
     "output_type": "stream",
     "text": [
      "Fav-Lang:\n",
      "\tPython\n",
      "\tJava\n",
      "\tC#\n",
      "\tC++\n",
      "\n"
     ]
    }
   ],
   "source": [
    "#Adding tab Delimiter\n",
    "\n",
    "print(\"Fav-Lang:\\n\\tPython\\n\\tJava\\n\\tC#\\n\\tC++\\n\")"
   ]
  },
  {
   "cell_type": "code",
   "execution_count": null,
   "id": "e3188150",
   "metadata": {},
   "outputs": [],
   "source": [
    "#Removing White spaces from string"
   ]
  },
  {
   "cell_type": "code",
   "execution_count": 14,
   "id": "f424b313",
   "metadata": {},
   "outputs": [],
   "source": [
    "s1='  Python'\n",
    "s2='  python  '\n",
    "s3='Python   '"
   ]
  },
  {
   "cell_type": "code",
   "execution_count": 15,
   "id": "57e00d04",
   "metadata": {},
   "outputs": [
    {
     "name": "stdout",
     "output_type": "stream",
     "text": [
      "  Python\n",
      "  python  \n",
      "Python   \n"
     ]
    }
   ],
   "source": [
    "print(s1)\n",
    "print(s2)\n",
    "print(s3)"
   ]
  },
  {
   "cell_type": "code",
   "execution_count": 17,
   "id": "69f4a857",
   "metadata": {},
   "outputs": [
    {
     "name": "stdout",
     "output_type": "stream",
     "text": [
      "Left Trim : Python\n",
      "Left Right Trim : python\n",
      "Right Trim : Python\n"
     ]
    }
   ],
   "source": [
    "print(\"Left Trim :\",s1.lstrip())\n",
    "print(\"Left Right Trim :\",s2.strip())\n",
    "print(\"Right Trim :\",s3.rstrip())\n"
   ]
  },
  {
   "cell_type": "code",
   "execution_count": null,
   "id": "c53d5541",
   "metadata": {},
   "outputs": [],
   "source": []
  }
 ],
 "metadata": {
  "kernelspec": {
   "display_name": "Python 3 (ipykernel)",
   "language": "python",
   "name": "python3"
  },
  "language_info": {
   "codemirror_mode": {
    "name": "ipython",
    "version": 3
   },
   "file_extension": ".py",
   "mimetype": "text/x-python",
   "name": "python",
   "nbconvert_exporter": "python",
   "pygments_lexer": "ipython3",
   "version": "3.11.3"
  }
 },
 "nbformat": 4,
 "nbformat_minor": 5
}
